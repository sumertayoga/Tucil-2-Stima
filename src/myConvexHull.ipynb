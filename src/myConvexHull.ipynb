{
 "cells": [
  {
   "cell_type": "code",
   "execution_count": 4,
   "metadata": {},
   "outputs": [],
   "source": [
    "from cmath import sqrt\n",
    "import numpy as np\n",
    "\n",
    "\n",
    "def findIndex(bucket, array):\n",
    "    idx = 0\n",
    "    for i in bucket:\n",
    "        if(i[0] == array[0] and i[1] == array[1]):\n",
    "            return idx\n",
    "        idx += 1\n",
    "\n",
    "\n",
    "def farthestPoint(point1, pointn, setOfPoint):\n",
    "    # Mencari titik terjauh\n",
    "    # Persamaan ax+by+c=0\n",
    "    m = (point1[1] - pointn[1])/(point1[0] - pointn[0])\n",
    "    a = m\n",
    "    b = -1\n",
    "    c = point1[1] - m*point1[0]\n",
    "    maks = 0\n",
    "    pmaks = []\n",
    "    # Iterate in set\n",
    "    for i in setOfPoint:\n",
    "        temp = abs((a*i[0] + b*i[1] + c)/sqrt(a*a + b*b))\n",
    "        if temp >= maks:\n",
    "            maks = temp\n",
    "            pmaks = i\n",
    "    return pmaks\n",
    "\n",
    "\n",
    "def convexHull(bucket):\n",
    "    sorted_bucket = sorted(bucket, key=lambda x: [x[0], x[1]])\n",
    "    sorted_bucket = np.asarray(sorted_bucket)\n",
    "    arrayLength = len(sorted_bucket)\n",
    "    p1 = sorted_bucket[0]\n",
    "    pn = sorted_bucket[arrayLength-1]\n",
    "\n",
    "    # Membuat dua area baru\n",
    "    # s1 untuk det positif atau dikiri\n",
    "    # s2 untuk det negatif atau dikanan\n",
    "    s1 = np.array([p1])\n",
    "    s1 = np.append(s1, [pn], axis=0)\n",
    "    s2 = s1\n",
    "\n",
    "    for i in range(1, arrayLength-1):\n",
    "        det = sorted_bucket[0, 0] * sorted_bucket[arrayLength-1, 1] + sorted_bucket[i, 0] * sorted_bucket[0, 1] + sorted_bucket[arrayLength-1, 0] * sorted_bucket[i,\n",
    "                                                                                                                                                                  1] - sorted_bucket[i, 0] * sorted_bucket[arrayLength-1, 1] - sorted_bucket[arrayLength-1, 0] * sorted_bucket[0, 1] - sorted_bucket[0, 0] * sorted_bucket[i, 1]\n",
    "        if det > 0:\n",
    "            s1 = np.append(s1, [sorted_bucket[i]], axis=0)\n",
    "        elif det < 0:\n",
    "            s2 = np.append(s2, [sorted_bucket[i]], axis=0)\n",
    "    s2 = np.unique(s2, axis=0)\n",
    "    s1 = np.unique(s1, axis=0)\n",
    "    hull1 = DandC(bucket, p1, pn, s1)\n",
    "    hull2 = DandC(bucket, pn, p1, s2)\n",
    "    hull = np.append(hull1, hull2, axis=0)\n",
    "\n",
    "    return hull\n",
    "\n",
    "\n",
    "def outerPoint(p1, p2, s):\n",
    "    part = np.array([p1, p2])\n",
    "    for i in range(len(s)):\n",
    "        a = p1[0] * p2[1] + s[i, 0] * p1[1] + p2[0] * s[i, 1]\n",
    "        b = s[i, 0] * p2[1] + p2[0] * p1[1] + p1[0] * s[i, 1]\n",
    "        det = a-b\n",
    "        if det > 0:\n",
    "            part = np.append(part, [s[i]], axis=0)\n",
    "    part = np.unique(part, axis=0)\n",
    "    return part\n",
    "\n",
    "\n",
    "def DandC(bucket, p1, p2, s):\n",
    "    if(len(s) == 2):\n",
    "        #print(p1, p2)\n",
    "        pos1 = findIndex(bucket, p1)\n",
    "        pos2 = findIndex(bucket, p2)\n",
    "        hull = np.array([[pos1, pos2]])\n",
    "    else:\n",
    "        pmaks = farthestPoint(p1, p2, s)\n",
    "        s1 = outerPoint(p1, pmaks, s)\n",
    "        s2 = outerPoint(pmaks, p2, s)\n",
    "        hull1 = DandC(bucket, p1, pmaks, s1)\n",
    "        hull2 = DandC(bucket, pmaks, p2, s2)\n",
    "        hull = np.append(hull1, hull2, axis=0)\n",
    "    return hull\n"
   ]
  },
  {
   "cell_type": "code",
   "execution_count": 5,
   "metadata": {},
   "outputs": [
    {
     "ename": "NameError",
     "evalue": "name 'ch' is not defined",
     "output_type": "error",
     "traceback": [
      "\u001b[1;31m---------------------------------------------------------------------------\u001b[0m",
      "\u001b[1;31mNameError\u001b[0m                                 Traceback (most recent call last)",
      "\u001b[1;32md:\\Sumerta Yoga\\ITB\\Semester 4\\Stima\\Tucil-2-Stima\\myConvexHull.ipynb Cell 2'\u001b[0m in \u001b[0;36m<cell line: 19>\u001b[1;34m()\u001b[0m\n\u001b[0;32m     <a href='vscode-notebook-cell:/d%3A/Sumerta%20Yoga/ITB/Semester%204/Stima/Tucil-2-Stima/myConvexHull.ipynb#ch0000001?line=20'>21</a>\u001b[0m bucket \u001b[39m=\u001b[39m bucket\u001b[39m.\u001b[39miloc[:, [\u001b[39m9\u001b[39m, \u001b[39m10\u001b[39m]]\u001b[39m.\u001b[39mvalues\n\u001b[0;32m     <a href='vscode-notebook-cell:/d%3A/Sumerta%20Yoga/ITB/Semester%204/Stima/Tucil-2-Stima/myConvexHull.ipynb#ch0000001?line=21'>22</a>\u001b[0m \u001b[39m# bagian ini diganti dengan hasil implementasi\u001b[39;00m\n\u001b[1;32m---> <a href='vscode-notebook-cell:/d%3A/Sumerta%20Yoga/ITB/Semester%204/Stima/Tucil-2-Stima/myConvexHull.ipynb#ch0000001?line=22'>23</a>\u001b[0m hull \u001b[39m=\u001b[39m ch\u001b[39m.\u001b[39mconvexHull(bucket)\n\u001b[0;32m     <a href='vscode-notebook-cell:/d%3A/Sumerta%20Yoga/ITB/Semester%204/Stima/Tucil-2-Stima/myConvexHull.ipynb#ch0000001?line=23'>24</a>\u001b[0m plt\u001b[39m.\u001b[39mscatter(bucket[:, \u001b[39m0\u001b[39m], bucket[:, \u001b[39m1\u001b[39m], label\u001b[39m=\u001b[39mdata\u001b[39m.\u001b[39mtarget_names[i])\n\u001b[0;32m     <a href='vscode-notebook-cell:/d%3A/Sumerta%20Yoga/ITB/Semester%204/Stima/Tucil-2-Stima/myConvexHull.ipynb#ch0000001?line=24'>25</a>\u001b[0m \u001b[39mprint\u001b[39m(hull)\n",
      "\u001b[1;31mNameError\u001b[0m: name 'ch' is not defined"
     ]
    },
    {
     "data": {
      "image/png": "[encoded data removed]",
      "text/plain": [
       "<Figure size 720x432 with 1 Axes>"
      ]
     },
     "metadata": {
      "needs_background": "light"
     },
     "output_type": "display_data"
    }
   ],
   "source": [
    "import matplotlib.pyplot as plt\n",
    "from scipy.spatial import ConvexHull\n",
    "import numpy as np\n",
    "import pandas as pd\n",
    "from sklearn import datasets\n",
    "\n",
    "\n",
    "data = datasets.load_wine()\n",
    "# create a DataFrame\n",
    "df = pd.DataFrame(data.data, columns=data.feature_names)\n",
    "df['Target'] = pd.DataFrame(data.target)\n",
    "df.head()\n",
    "\n",
    "plt.figure(figsize=(10, 6))\n",
    "colors = ['b', 'r', 'g']\n",
    "plt.title('Petal Width vs Petal Length')\n",
    "plt.xlabel(data.feature_names[0])\n",
    "plt.ylabel(data.feature_names[1])\n",
    "for i in range(len(data.target_names)):\n",
    "    bucket = df[df['Target'] == i]\n",
    "    bucket = bucket.iloc[:, [9, 10]].values\n",
    "    # bagian ini diganti dengan hasil implementasi\n",
    "    hull = convexHull(bucket)\n",
    "    plt.scatter(bucket[:, 0], bucket[:, 1], label=data.target_names[i])\n",
    "    print(hull)\n",
    "    for simplex in hull:\n",
    "        # Simple disini isinya pasangan urutan titik di bucket\n",
    "        # pasangan tersebut akan dihubungkan garis/diplotkan\n",
    "        plt.plot(bucket[simplex, 0], bucket[simplex, 1], colors[i])\n",
    "plt.legend()\n",
    "plt.show()\n"
   ]
  }
 ],
 "metadata": {
  "interpreter": {
   "hash": "8a48770bb3c76ada6ec5eec9b53a504a3323976b81e1d1b6d1fc077cb2f95093"
  },
  "kernelspec": {
   "display_name": "Python 3.10.2 64-bit",
   "language": "python",
   "name": "python3"
  },
  "language_info": {
   "codemirror_mode": {
    "name": "ipython",
    "version": 3
   },
   "file_extension": ".py",
   "mimetype": "text/x-python",
   "name": "python",
   "nbconvert_exporter": "python",
   "pygments_lexer": "ipython3",
   "version": "3.10.2"
  },
  "orig_nbformat": 4
 },
 "nbformat": 4,
 "nbformat_minor": 2
}
